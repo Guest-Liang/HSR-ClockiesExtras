{
 "cells": [
  {
   "cell_type": "code",
   "execution_count": 20,
   "metadata": {},
   "outputs": [],
   "source": [
    "# from pynput.mouse import Button, Controller\n",
    "import time\n",
    "# from pymouse import PyMouse\n",
    "# from pykeyboard import PyKeyboard\n",
    "# m = PyMouse()\n",
    "# k = PyKeyboard()\n",
    "import win32gui,win32con,win32api,win32print,win32com.client\n",
    "\n",
    "import src.ScreenScale as ScreenScale\n",
    "windows_common = ScreenScale.WindowsCommon()\n",
    "ScreenScale = windows_common.getScreenScaleRate()\n",
    "# import pyautogui\n",
    "import pygetwindow as gw"
   ]
  },
  {
   "cell_type": "code",
   "execution_count": 21,
   "metadata": {},
   "outputs": [
    {
     "name": "stdout",
     "output_type": "stream",
     "text": [
      "<Win32Window left=\"0\", top=\"0\", width=\"1\", height=\"1\", title=\"\">\n",
      "<Win32Window left=\"0\", top=\"0\", width=\"1\", height=\"1\", title=\"\">\n",
      "<Win32Window left=\"0\", top=\"1438\", width=\"2560\", height=\"84\", title=\"\">\n",
      "<Win32Window left=\"-12\", top=\"-12\", width=\"2584\", height=\"1464\", title=\"● devmain.ipynb - HSR-ClockiesExtras - Visual Studio Code\">\n",
      "<Win32Window left=\"163\", top=\"59\", width=\"2166\", height=\"1279\", title=\"任务管理器\">\n",
      "<Win32Window left=\"-12\", top=\"-12\", width=\"2584\", height=\"1464\", title=\"SetWindowPos函数详解 - findumars - 博客园 和另外 15 个页面 - 个人 - Microsoft​ Edge\">\n",
      "<Win32Window left=\"0\", top=\"11\", width=\"2560\", height=\"1441\", title=\"设置\">\n",
      "<Win32Window left=\"-12\", top=\"-12\", width=\"2584\", height=\"1464\", title=\"设置\">\n",
      "<Win32Window left=\"0\", top=\"0\", width=\"2560\", height=\"1440\", title=\"\">\n",
      "<Win32Window left=\"0\", top=\"1\", width=\"1792\", height=\"1392\", title=\"邮件\">\n",
      "<Win32Window left=\"485\", top=\"249\", width=\"822\", height=\"866\", title=\"添加帐户\">\n",
      "<Win32Window left=\"69\", top=\"0\", width=\"1816\", height=\"1405\", title=\"邮件\">\n",
      "<Win32Window left=\"0\", top=\"0\", width=\"2560\", height=\"1440\", title=\"Windows 输入体验\">\n",
      "<Win32Window left=\"0\", top=\"0\", width=\"0\", height=\"0\", title=\"\">\n",
      "<Win32Window left=\"27\", top=\"0\", width=\"2533\", height=\"4\", title=\"\">\n",
      "<Win32Window left=\"0\", top=\"0\", width=\"0\", height=\"0\", title=\"\">\n",
      "<Win32Window left=\"0\", top=\"0\", width=\"0\", height=\"0\", title=\"\">\n",
      "<Win32Window left=\"0\", top=\"0\", width=\"0\", height=\"0\", title=\"\">\n",
      "<Win32Window left=\"0\", top=\"0\", width=\"0\", height=\"0\", title=\"\">\n",
      "<Win32Window left=\"0\", top=\"0\", width=\"2560\", height=\"1440\", title=\"\">\n",
      "<Win32Window left=\"0\", top=\"0\", width=\"2560\", height=\"1440\", title=\"\">\n",
      "<Win32Window left=\"0\", top=\"0\", width=\"2560\", height=\"1440\", title=\"Program Manager\">\n"
     ]
    }
   ],
   "source": [
    "# 获取当前打开的所有窗口\n",
    "windows = gw.getAllWindows()\n",
    "for window in windows:\n",
    "    print(window)\n",
    "\n",
    "# 获取指定窗口并激活\n",
    "# window = gw.getWindowsWithTitle('swigwin-4.2.1')\n",
    "# if window:\n",
    "#     window[0].show()\n",
    "#     window[0].activate()\n",
    "#     time.sleep(3)\n",
    "#     window[0].resizeTo(1280, 720)\n",
    "# else:\n",
    "#     print('没有找到指定窗口')\n",
    "\n",
    "# 关闭窗口\n",
    "# window.close()\n",
    "\n",
    "\n",
    "# hwnd = win32gui.FindWindow(None, \"swigwin-4.2.1\")\n",
    "# win32gui.SetForegroundWindow(hwnd)\n"
   ]
  },
  {
   "cell_type": "code",
   "execution_count": 31,
   "metadata": {},
   "outputs": [
    {
     "name": "stdout",
     "output_type": "stream",
     "text": [
      "hwnd_active hwnd: 133494\n",
      "hwnd_active text: devmain.ipynb - HSR-ClockiesExtras - Visual Studio Code\n",
      "hwnd_active class: Chrome_WidgetWin_1\n",
      "------------------------------------------\n",
      "win32gui.SetForegroundWindow(win) success\n",
      "win32gui.SetForegroundWindow(win) success\n",
      "hwnd_active hwnd: 133494\n",
      "hwnd_active text: ● devmain.ipynb - HSR-ClockiesExtras - Visual Studio Code\n",
      "hwnd_active class: Chrome_WidgetWin_1\n"
     ]
    }
   ],
   "source": [
    "def print_GetForegroundWindow():\n",
    "    hwnd_active = win32gui.GetForegroundWindow()\n",
    "    print('hwnd_active hwnd:',hwnd_active)\n",
    "    print('hwnd_active text:',win32gui.GetWindowText(hwnd_active))\n",
    "    print('hwnd_active class:',win32gui.GetClassName(hwnd_active))\n",
    "    \n",
    "print_GetForegroundWindow()\n",
    "print('------------------------------------------')\n",
    "\n",
    "shell = win32com.client.Dispatch(\"WScript.Shell\")\n",
    "shell.SendKeys('%')\n",
    "win=win32gui.FindWindow(None,\"swigwin-4.2.1\")\n",
    "try:\n",
    "    # 尝试将窗口设置为前台窗口\n",
    "    win32gui.SetForegroundWindow(win)\n",
    "    print('win32gui.SetForegroundWindow(win) success')\n",
    "except Exception as e:\n",
    "    pass\n",
    "time.sleep(5)\n",
    "\n",
    "try:\n",
    "    # 尝试将窗口设置为前台窗口\n",
    "    win32gui.SetForegroundWindow(win)\n",
    "    print('win32gui.SetForegroundWindow(win) success')\n",
    "except Exception as e:\n",
    "    pass\n",
    "time.sleep(5)\n",
    "# win32gui.BringWindowToTop(win)\n",
    "# print('win32gui.BringWindowToTop(win) success')\n",
    "# time.sleep(5)\n",
    "# 查看是否修改\n",
    "print_GetForegroundWindow()\n",
    "# 加上显示到最前端，这里使用 SW_SHOW，用参考链接中得max有时会导致窗体不可点击\n",
    "# win32gui.ShowWindow(win, win32con.SW_SHOW)"
   ]
  }
 ],
 "metadata": {
  "kernelspec": {
   "display_name": "base",
   "language": "python",
   "name": "python3"
  },
  "language_info": {
   "codemirror_mode": {
    "name": "ipython",
    "version": 3
   },
   "file_extension": ".py",
   "mimetype": "text/x-python",
   "name": "python",
   "nbconvert_exporter": "python",
   "pygments_lexer": "ipython3",
   "version": "3.11.7"
  }
 },
 "nbformat": 4,
 "nbformat_minor": 2
}
